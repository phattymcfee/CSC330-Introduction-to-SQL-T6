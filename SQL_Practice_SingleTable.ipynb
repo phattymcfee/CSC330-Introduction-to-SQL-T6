{
 "cells": [
  {
   "cell_type": "markdown",
   "metadata": {},
   "source": [
    "# Practice Exercises for Single Table SQL\n",
    "\n",
    "Given a dataset and a set of questions, form the queries to answer the questions. All questions in this particular exercise only require a query to a single table. \n",
    "\n",
    "⚠️ *Note:* Please display minimal number of attributes (columns) needed to make sense of your answer. Not too many, not too few.\n"
   ]
  },
  {
   "cell_type": "markdown",
   "metadata": {},
   "source": [
    "## Setup\n",
    "The SQLite database for these exercises has been setup for you. For the curious, you can look at this file for the DDL commands to setup the tables and insert data.  `db_illum_ddl_5_3.sql`\n",
    "\n",
    "Here is the schema for the database. The arrows show foreign keys, which is just fyi for now. \n",
    "\n",
    "![worker_project schema](worker_project_schema.png) "
   ]
  },
  {
   "cell_type": "code",
   "execution_count": 1,
   "metadata": {},
   "outputs": [],
   "source": [
    "# Make sure to always run this cell when you open this notebook\n",
    "# Start the Jupyter SQL engine, connecting to a SQLite database \n",
    "%reload_ext sql \n",
    "%sql sqlite:///worker_project.db"
   ]
  },
  {
   "cell_type": "markdown",
   "metadata": {},
   "source": [
    "0. In the command line, inspect the sqlite database (worker_project.db) to see what the tables and columns actually are. Any differences you observe? (Also, copy past your output in the cell below)"
   ]
  },
  {
   "cell_type": "code",
   "execution_count": null,
   "metadata": {
    "vscode": {
     "languageId": "sql"
    }
   },
   "outputs": [],
   "source": [
    "sqlite> select * from Dept;\n",
    "Accounting|101\n",
    "Research|110\n",
    "sqlite> select * from worker;\n",
    "101|Smith|Tom|Accounting|01-Feb-1970|06-Jun-1993 |50000\n",
    "103|Jones|Mary|Accounting|15-Jun-1975|20-Sep-2005|48000\n",
    "105|Burns|Jane|Accounting|21-Sep-1980|12-Jun-2015|39000\n",
    "110|Burns|Michael|Research|05-Apr-1977|10-Sep-2020|70000\n",
    "115|Chin|Amanda|Research|22-Sep-1980|19-Jun-2022|60000\n",
    "sqlite> select * from Project;\n",
    "1001|Jupiter|101|300000|01-Feb-2021|50\n",
    "1005|Saturn|101|400000|01-Jun-2022|35\n",
    "1019|Mercury|110|350000|15-Feb-2022|40\n",
    "1025|Neptune|110|600000|01-Feb-2021|45\n",
    "1030|Pluto|110|380000|15-Sep-2023|50\n",
    "sqlite> \n",
    "sqlite> select * from Assign;\n",
    "1001|101|30|\n",
    "1001|103|20|5\n",
    "1005|103|20|\n",
    "1001|105|30|\n",
    "1001|115|20|4\n",
    "1019|110|20|5\n",
    "1019|115|10|4\n",
    "1025|110|10|\n",
    "1030|110|10|"
   ]
  },
  {
   "cell_type": "markdown",
   "metadata": {},
   "source": [
    "1. Get the names of all workers in the Accounting department."
   ]
  },
  {
   "cell_type": "code",
   "execution_count": 3,
   "metadata": {
    "vscode": {
     "languageId": "sql"
    }
   },
   "outputs": [
    {
     "name": "stderr",
     "output_type": "stream",
     "text": [
      "UsageError: Cell magic `%%sql` not found.\n"
     ]
    }
   ],
   "source": [
    "%%sql\n",
    "\n",
    "SELECT firstName  || ' ' || lastName AS FullName FROM Worker WHERE deptName = \"Accounting\";\n"
   ]
  },
  {
   "cell_type": "markdown",
   "metadata": {},
   "source": [
    "2. Get the name of the employee in the Research department who has the lowest salary."
   ]
  },
  {
   "cell_type": "code",
   "execution_count": 41,
   "metadata": {
    "vscode": {
     "languageId": "sql"
    }
   },
   "outputs": [
    {
     "name": "stdout",
     "output_type": "stream",
     "text": [
      " * sqlite:///worker_project.db\n",
      "Done.\n"
     ]
    },
    {
     "data": {
      "text/html": [
       "<table>\n",
       "    <tr>\n",
       "        <th>FullName</th>\n",
       "        <th>Min_Salary</th>\n",
       "    </tr>\n",
       "    <tr>\n",
       "        <td>Amanda Chin</td>\n",
       "        <td>60000</td>\n",
       "    </tr>\n",
       "</table>"
      ],
      "text/plain": [
       "[('Amanda Chin', 60000)]"
      ]
     },
     "execution_count": 41,
     "metadata": {},
     "output_type": "execute_result"
    }
   ],
   "source": [
    "%%sql\n",
    "SELECT firstName || \" \" || lastName AS FullName, MIN(salary) AS Min_Salary FROM Worker WHERE deptName = \"Research\";"
   ]
  },
  {
   "cell_type": "markdown",
   "metadata": {},
   "source": [
    "3. Get the details of the project with the highest budget."
   ]
  },
  {
   "cell_type": "code",
   "execution_count": 4,
   "metadata": {
    "vscode": {
     "languageId": "sql"
    }
   },
   "outputs": [
    {
     "name": "stdout",
     "output_type": "stream",
     "text": [
      " * sqlite:///worker_project.db\n",
      "Done.\n"
     ]
    },
    {
     "data": {
      "text/html": [
       "<table>\n",
       "    <tr>\n",
       "        <th>projNo</th>\n",
       "        <th>projName</th>\n",
       "        <th>projMgrId</th>\n",
       "        <th>budget</th>\n",
       "        <th>startDate</th>\n",
       "        <th>expectedDurationWeeks</th>\n",
       "        <th>highest_budget</th>\n",
       "    </tr>\n",
       "    <tr>\n",
       "        <td>1025</td>\n",
       "        <td>Neptune</td>\n",
       "        <td>110</td>\n",
       "        <td>600000</td>\n",
       "        <td>01-Feb-2021</td>\n",
       "        <td>45</td>\n",
       "        <td>600000</td>\n",
       "    </tr>\n",
       "</table>"
      ],
      "text/plain": [
       "[(1025, 'Neptune', 110, 600000, '01-Feb-2021', 45, 600000)]"
      ]
     },
     "execution_count": 4,
     "metadata": {},
     "output_type": "execute_result"
    }
   ],
   "source": [
    "%%sql\n",
    "\n",
    "SELECT *, MAX(budget) AS highest_budget FROM project "
   ]
  },
  {
   "cell_type": "markdown",
   "metadata": {},
   "source": [
    "## The following questions may require more than one query to answer. \n",
    "Show your work! Add as many SQL cells as needed for each question. Use comments to indicate how the output of each query is used to arrive at your answer.  "
   ]
  },
  {
   "cell_type": "code",
   "execution_count": null,
   "metadata": {
    "vscode": {
     "languageId": "sql"
    }
   },
   "outputs": [],
   "source": []
  },
  {
   "attachments": {},
   "cell_type": "markdown",
   "metadata": {},
   "source": [
    "4. List out alphabetically the names of all workers working on Project 1001."
   ]
  },
  {
   "attachments": {},
   "cell_type": "markdown",
   "metadata": {},
   "source": [
    "This question will requre LEFT JOIN because you have to get the firstName, lastName from the worker table, then combine the Assign table to the worker table to get the projNo.  "
   ]
  },
  {
   "cell_type": "code",
   "execution_count": 12,
   "metadata": {
    "vscode": {
     "languageId": "sql"
    }
   },
   "outputs": [
    {
     "name": "stdout",
     "output_type": "stream",
     "text": [
      " * sqlite:///worker_project.db\n",
      "Done.\n"
     ]
    },
    {
     "data": {
      "text/html": [
       "<table>\n",
       "    <tr>\n",
       "        <th>firstName</th>\n",
       "        <th>lastName</th>\n",
       "    </tr>\n",
       "    <tr>\n",
       "        <td>Amanda</td>\n",
       "        <td>Chin</td>\n",
       "    </tr>\n",
       "    <tr>\n",
       "        <td>Jane</td>\n",
       "        <td>Burns</td>\n",
       "    </tr>\n",
       "    <tr>\n",
       "        <td>Mary</td>\n",
       "        <td>Jones</td>\n",
       "    </tr>\n",
       "    <tr>\n",
       "        <td>Tom</td>\n",
       "        <td>Smith</td>\n",
       "    </tr>\n",
       "</table>"
      ],
      "text/plain": [
       "[('Amanda', 'Chin'), ('Jane', 'Burns'), ('Mary', 'Jones'), ('Tom', 'Smith')]"
      ]
     },
     "execution_count": 12,
     "metadata": {},
     "output_type": "execute_result"
    }
   ],
   "source": [
    "\n",
    "%%sql\n",
    "\n",
    "SELECT firstName, lastName FROM worker\n",
    "LEFT JOIN assign\n",
    "ON worker.empid = assign.empid\n",
    "WHERE projNo = 1001\n",
    "ORDER BY firstName, lastName \n",
    ";"
   ]
  },
  {
   "cell_type": "code",
   "execution_count": 5,
   "metadata": {
    "vscode": {
     "languageId": "sql"
    }
   },
   "outputs": [
    {
     "name": "stdout",
     "output_type": "stream",
     "text": [
      " * sqlite:///worker_project.db\n",
      "Done.\n"
     ]
    },
    {
     "data": {
      "text/html": [
       "<table>\n",
       "    <tr>\n",
       "        <th>empId</th>\n",
       "        <th>lastName</th>\n",
       "        <th>firstName</th>\n",
       "        <th>deptName</th>\n",
       "        <th>birthDate</th>\n",
       "        <th>hireDate</th>\n",
       "        <th>salary</th>\n",
       "    </tr>\n",
       "    <tr>\n",
       "        <td>101</td>\n",
       "        <td>Smith</td>\n",
       "        <td>Tom</td>\n",
       "        <td>Accounting</td>\n",
       "        <td>01-Feb-1970</td>\n",
       "        <td>06-Jun-1993 </td>\n",
       "        <td>50000</td>\n",
       "    </tr>\n",
       "    <tr>\n",
       "        <td>103</td>\n",
       "        <td>Jones</td>\n",
       "        <td>Mary</td>\n",
       "        <td>Accounting</td>\n",
       "        <td>15-Jun-1975</td>\n",
       "        <td>20-Sep-2005</td>\n",
       "        <td>48000</td>\n",
       "    </tr>\n",
       "    <tr>\n",
       "        <td>105</td>\n",
       "        <td>Burns</td>\n",
       "        <td>Jane</td>\n",
       "        <td>Accounting</td>\n",
       "        <td>21-Sep-1980</td>\n",
       "        <td>12-Jun-2015</td>\n",
       "        <td>39000</td>\n",
       "    </tr>\n",
       "    <tr>\n",
       "        <td>110</td>\n",
       "        <td>Burns</td>\n",
       "        <td>Michael</td>\n",
       "        <td>Research</td>\n",
       "        <td>05-Apr-1977</td>\n",
       "        <td>10-Sep-2020</td>\n",
       "        <td>70000</td>\n",
       "    </tr>\n",
       "    <tr>\n",
       "        <td>115</td>\n",
       "        <td>Chin</td>\n",
       "        <td>Amanda</td>\n",
       "        <td>Research</td>\n",
       "        <td>22-Sep-1980</td>\n",
       "        <td>19-Jun-2022</td>\n",
       "        <td>60000</td>\n",
       "    </tr>\n",
       "</table>"
      ],
      "text/plain": [
       "[(101, 'Smith', 'Tom', 'Accounting', '01-Feb-1970', '06-Jun-1993 ', 50000),\n",
       " (103, 'Jones', 'Mary', 'Accounting', '15-Jun-1975', '20-Sep-2005', 48000),\n",
       " (105, 'Burns', 'Jane', 'Accounting', '21-Sep-1980', '12-Jun-2015', 39000),\n",
       " (110, 'Burns', 'Michael', 'Research', '05-Apr-1977', '10-Sep-2020', 70000),\n",
       " (115, 'Chin', 'Amanda', 'Research', '22-Sep-1980', '19-Jun-2022', 60000)]"
      ]
     },
     "execution_count": 5,
     "metadata": {},
     "output_type": "execute_result"
    }
   ],
   "source": [
    "%%sql\n",
    "SELECT * FROM worker;\n"
   ]
  },
  {
   "cell_type": "code",
   "execution_count": 7,
   "metadata": {
    "vscode": {
     "languageId": "sql"
    }
   },
   "outputs": [
    {
     "name": "stdout",
     "output_type": "stream",
     "text": [
      " * sqlite:///worker_project.db\n",
      "Done.\n"
     ]
    },
    {
     "data": {
      "text/html": [
       "<table>\n",
       "    <tr>\n",
       "        <th>projNo</th>\n",
       "        <th>projName</th>\n",
       "        <th>projMgrId</th>\n",
       "        <th>budget</th>\n",
       "        <th>startDate</th>\n",
       "        <th>expectedDurationWeeks</th>\n",
       "    </tr>\n",
       "    <tr>\n",
       "        <td>1001</td>\n",
       "        <td>Jupiter</td>\n",
       "        <td>101</td>\n",
       "        <td>300000</td>\n",
       "        <td>01-Feb-2021</td>\n",
       "        <td>50</td>\n",
       "    </tr>\n",
       "    <tr>\n",
       "        <td>1005</td>\n",
       "        <td>Saturn</td>\n",
       "        <td>101</td>\n",
       "        <td>400000</td>\n",
       "        <td>01-Jun-2022</td>\n",
       "        <td>35</td>\n",
       "    </tr>\n",
       "    <tr>\n",
       "        <td>1019</td>\n",
       "        <td>Mercury</td>\n",
       "        <td>110</td>\n",
       "        <td>350000</td>\n",
       "        <td>15-Feb-2022</td>\n",
       "        <td>40</td>\n",
       "    </tr>\n",
       "    <tr>\n",
       "        <td>1025</td>\n",
       "        <td>Neptune</td>\n",
       "        <td>110</td>\n",
       "        <td>600000</td>\n",
       "        <td>01-Feb-2021</td>\n",
       "        <td>45</td>\n",
       "    </tr>\n",
       "    <tr>\n",
       "        <td>1030</td>\n",
       "        <td>Pluto</td>\n",
       "        <td>110</td>\n",
       "        <td>380000</td>\n",
       "        <td>15-Sep-2023</td>\n",
       "        <td>50</td>\n",
       "    </tr>\n",
       "</table>"
      ],
      "text/plain": [
       "[(1001, 'Jupiter', 101, 300000, '01-Feb-2021', 50),\n",
       " (1005, 'Saturn', 101, 400000, '01-Jun-2022', 35),\n",
       " (1019, 'Mercury', 110, 350000, '15-Feb-2022', 40),\n",
       " (1025, 'Neptune', 110, 600000, '01-Feb-2021', 45),\n",
       " (1030, 'Pluto', 110, 380000, '15-Sep-2023', 50)]"
      ]
     },
     "execution_count": 7,
     "metadata": {},
     "output_type": "execute_result"
    }
   ],
   "source": [
    "%%sql\n",
    "Select * FROM project;"
   ]
  },
  {
   "cell_type": "markdown",
   "metadata": {},
   "source": [
    "5. Get an alphabetical list of names and corresponding ratings for all workers on any project managed by Michael Burns."
   ]
  },
  {
   "attachments": {},
   "cell_type": "markdown",
   "metadata": {},
   "source": [
    "I think this will require an INNER JOIN because we are trying to combine information from three tables (Assign, Project, Worker).\n"
   ]
  },
  {
   "cell_type": "code",
   "execution_count": 6,
   "metadata": {
    "vscode": {
     "languageId": "sql"
    }
   },
   "outputs": [
    {
     "name": "stdout",
     "output_type": "stream",
     "text": [
      " * sqlite:///worker_project.db\n",
      "Done.\n"
     ]
    },
    {
     "data": {
      "text/html": [
       "<table>\n",
       "    <tr>\n",
       "        <th>firstName</th>\n",
       "        <th>rating</th>\n",
       "    </tr>\n",
       "    <tr>\n",
       "        <td>Michael</td>\n",
       "        <td>5</td>\n",
       "    </tr>\n",
       "    <tr>\n",
       "        <td>Michael</td>\n",
       "        <td>4</td>\n",
       "    </tr>\n",
       "    <tr>\n",
       "        <td>Michael</td>\n",
       "        <td>None</td>\n",
       "    </tr>\n",
       "</table>"
      ],
      "text/plain": [
       "[('Michael', 5), ('Michael', 4), ('Michael', None)]"
      ]
     },
     "execution_count": 6,
     "metadata": {},
     "output_type": "execute_result"
    }
   ],
   "source": [
    "%%sql\n",
    "-- Using Joins\n",
    "SELECT DISTINCT Worker.firstName, Assign.rating\n",
    "FROM Assign\n",
    "INNER JOIN Project ON Assign.projNo = Project.projNo\n",
    "INNER JOIN Worker ON Project.projMgrId = Worker.empId\n",
    "WHERE Worker.firstName = 'Michael'\n",
    "ORDER BY Worker.firstName;\n"
   ]
  },
  {
   "cell_type": "code",
   "execution_count": 5,
   "metadata": {
    "vscode": {
     "languageId": "sql"
    }
   },
   "outputs": [
    {
     "name": "stdout",
     "output_type": "stream",
     "text": [
      " * sqlite:///worker_project.db\n",
      "Done.\n"
     ]
    },
    {
     "data": {
      "text/html": [
       "<table>\n",
       "    <tr>\n",
       "        <th>firstName</th>\n",
       "        <th>rating</th>\n",
       "    </tr>\n",
       "    <tr>\n",
       "        <td>Michael</td>\n",
       "        <td>5</td>\n",
       "    </tr>\n",
       "    <tr>\n",
       "        <td>Amanda</td>\n",
       "        <td>4</td>\n",
       "    </tr>\n",
       "    <tr>\n",
       "        <td>Michael</td>\n",
       "        <td>None</td>\n",
       "    </tr>\n",
       "</table>"
      ],
      "text/plain": [
       "[('Michael', 5), ('Amanda', 4), ('Michael', None)]"
      ]
     },
     "execution_count": 5,
     "metadata": {},
     "output_type": "execute_result"
    }
   ],
   "source": [
    "%%sql\n",
    "\n",
    "\n",
    "Select DISTINCT firstName, rating\n",
    "from\n",
    "(Select empId, rating\n",
    "from Assign \n",
    "where projNo in (SELECT projNo from Project where projMgrId = \n",
    "(Select empId from Worker where firstName == 'Michael'))) as t\n",
    "INNER JOIN Worker  ON t.empId=Worker.empId\n",
    "\n"
   ]
  },
  {
   "cell_type": "markdown",
   "metadata": {},
   "source": [
    "6. For all projects starting after Feb 1, 2022, find the project number and names of all workers assigned to them. "
   ]
  },
  {
   "attachments": {},
   "cell_type": "markdown",
   "metadata": {},
   "source": [
    "I think you would use a INNER JOIN because you are combining the information of 3 tables (Assign, Project, Worker)."
   ]
  },
  {
   "cell_type": "code",
   "execution_count": 10,
   "metadata": {
    "vscode": {
     "languageId": "sql"
    }
   },
   "outputs": [
    {
     "name": "stdout",
     "output_type": "stream",
     "text": [
      " * sqlite:///worker_project.db\n",
      "Done.\n"
     ]
    },
    {
     "data": {
      "text/html": [
       "<table>\n",
       "    <tr>\n",
       "        <th>projNo</th>\n",
       "        <th>firstName</th>\n",
       "    </tr>\n",
       "</table>"
      ],
      "text/plain": [
       "[]"
      ]
     },
     "execution_count": 10,
     "metadata": {},
     "output_type": "execute_result"
    }
   ],
   "source": [
    "%%sql\n",
    "-- using joins\n",
    "SELECT Project.projNo, Worker.Firstname\n",
    "FROM Assign\n",
    "JOIN Project ON Assign.projNo = Project.projNo\n",
    "JOIN Worker ON Assign.empId = Worker.empId\n",
    "WHERE Project.startDate > '2022-02-01'\n"
   ]
  },
  {
   "cell_type": "code",
   "execution_count": 9,
   "metadata": {
    "vscode": {
     "languageId": "sql"
    }
   },
   "outputs": [
    {
     "name": "stdout",
     "output_type": "stream",
     "text": [
      " * sqlite:///worker_project.db\n",
      "Done.\n"
     ]
    },
    {
     "data": {
      "text/html": [
       "<table>\n",
       "    <tr>\n",
       "        <th>projNo</th>\n",
       "        <th>firstName</th>\n",
       "    </tr>\n",
       "    <tr>\n",
       "        <td>1005</td>\n",
       "        <td>Mary</td>\n",
       "    </tr>\n",
       "    <tr>\n",
       "        <td>1019</td>\n",
       "        <td>Michael</td>\n",
       "    </tr>\n",
       "    <tr>\n",
       "        <td>1019</td>\n",
       "        <td>Amanda</td>\n",
       "    </tr>\n",
       "    <tr>\n",
       "        <td>1030</td>\n",
       "        <td>Michael</td>\n",
       "    </tr>\n",
       "</table>"
      ],
      "text/plain": [
       "[(1005, 'Mary'), (1019, 'Michael'), (1019, 'Amanda'), (1030, 'Michael')]"
      ]
     },
     "execution_count": 9,
     "metadata": {},
     "output_type": "execute_result"
    }
   ],
   "source": [
    "%%sql\n",
    "\n",
    "\n",
    "Select projNo,Firstname from\n",
    "(SELECT distinct empId,projNo\n",
    "from Assign where projNo in\n",
    "(select projNo from Project where startDate > '01-Feb-2022')) as T\n",
    "INNER JOIN Worker on T.empId=Worker.empId\n"
   ]
  },
  {
   "cell_type": "markdown",
   "metadata": {},
   "source": [
    "7. Find the names of employees who are not assigned as managers any project."
   ]
  },
  {
   "attachments": {},
   "cell_type": "markdown",
   "metadata": {},
   "source": [
    "I think we are going to use a LEFT JOIN because we are only getting information from two tables (Worker, Project) And the Project information will be appended to the Worker table. "
   ]
  },
  {
   "cell_type": "code",
   "execution_count": 20,
   "metadata": {
    "vscode": {
     "languageId": "sql"
    }
   },
   "outputs": [
    {
     "name": "stdout",
     "output_type": "stream",
     "text": [
      " * sqlite:///worker_project.db\n",
      "Done.\n"
     ]
    },
    {
     "data": {
      "text/html": [
       "<table>\n",
       "    <tr>\n",
       "        <th>lastName</th>\n",
       "        <th>firstName</th>\n",
       "    </tr>\n",
       "    <tr>\n",
       "        <td>Jones</td>\n",
       "        <td>Mary</td>\n",
       "    </tr>\n",
       "    <tr>\n",
       "        <td>Burns</td>\n",
       "        <td>Jane</td>\n",
       "    </tr>\n",
       "    <tr>\n",
       "        <td>Chin</td>\n",
       "        <td>Amanda</td>\n",
       "    </tr>\n",
       "</table>"
      ],
      "text/plain": [
       "[('Jones', 'Mary'), ('Burns', 'Jane'), ('Chin', 'Amanda')]"
      ]
     },
     "execution_count": 20,
     "metadata": {},
     "output_type": "execute_result"
    }
   ],
   "source": [
    "%%sql\n",
    "SELECT lastName, firstName\n",
    "FROM Worker AS w\n",
    "LEFT JOIN Project as p\n",
    "ON w.empId = p.projMgrId\n",
    "WHERE p.projMgrId IS NULL\n"
   ]
  },
  {
   "cell_type": "code",
   "execution_count": 11,
   "metadata": {
    "vscode": {
     "languageId": "sql"
    }
   },
   "outputs": [
    {
     "name": "stdout",
     "output_type": "stream",
     "text": [
      " * sqlite:///worker_project.db\n",
      "Done.\n"
     ]
    },
    {
     "data": {
      "text/html": [
       "<table>\n",
       "    <tr>\n",
       "        <th>firstName</th>\n",
       "        <th>lastName</th>\n",
       "    </tr>\n",
       "    <tr>\n",
       "        <td>Mary</td>\n",
       "        <td>Jones</td>\n",
       "    </tr>\n",
       "    <tr>\n",
       "        <td>Jane</td>\n",
       "        <td>Burns</td>\n",
       "    </tr>\n",
       "    <tr>\n",
       "        <td>Amanda</td>\n",
       "        <td>Chin</td>\n",
       "    </tr>\n",
       "</table>"
      ],
      "text/plain": [
       "[('Mary', 'Jones'), ('Jane', 'Burns'), ('Amanda', 'Chin')]"
      ]
     },
     "execution_count": 11,
     "metadata": {},
     "output_type": "execute_result"
    }
   ],
   "source": [
    "%%sql\n",
    "\n",
    "SELECT firstName, lastName FROM Worker\n",
    "WHERE empId\n",
    "NOT IN (SELECT DISTINCT projMgrId FROM Project)\n",
    "\n",
    "\n",
    "\n",
    "\n"
   ]
  },
  {
   "cell_type": "markdown",
   "metadata": {},
   "source": [
    "8. Find details of any project with the string \"urn\" in the project name. "
   ]
  },
  {
   "attachments": {},
   "cell_type": "markdown",
   "metadata": {},
   "source": [
    "I don't this this query requies a join because it only requires information from one table. "
   ]
  },
  {
   "cell_type": "code",
   "execution_count": 21,
   "metadata": {
    "vscode": {
     "languageId": "sql"
    }
   },
   "outputs": [
    {
     "name": "stdout",
     "output_type": "stream",
     "text": [
      " * sqlite:///worker_project.db\n",
      "Done.\n"
     ]
    },
    {
     "data": {
      "text/html": [
       "<table>\n",
       "    <tr>\n",
       "        <th>projNo</th>\n",
       "        <th>projName</th>\n",
       "        <th>projMgrId</th>\n",
       "        <th>budget</th>\n",
       "        <th>startDate</th>\n",
       "        <th>expectedDurationWeeks</th>\n",
       "    </tr>\n",
       "    <tr>\n",
       "        <td>1005</td>\n",
       "        <td>Saturn</td>\n",
       "        <td>101</td>\n",
       "        <td>400000</td>\n",
       "        <td>01-Jun-2022</td>\n",
       "        <td>35</td>\n",
       "    </tr>\n",
       "</table>"
      ],
      "text/plain": [
       "[(1005, 'Saturn', 101, 400000, '01-Jun-2022', 35)]"
      ]
     },
     "execution_count": 21,
     "metadata": {},
     "output_type": "execute_result"
    }
   ],
   "source": [
    "%%sql\n",
    "\n",
    "SELECT * FROM Project WHERE projName LIKE \"%urn%\";"
   ]
  },
  {
   "cell_type": "markdown",
   "metadata": {},
   "source": [
    "9. List out the projects from most to least efficient. (hint: the project with the lowest budget is not necessarily the one that uses time and human resources effectively.)"
   ]
  },
  {
   "attachments": {},
   "cell_type": "markdown",
   "metadata": {},
   "source": [
    "I don't this this query requies a join because it only requires information from one table. "
   ]
  },
  {
   "cell_type": "code",
   "execution_count": 16,
   "metadata": {
    "vscode": {
     "languageId": "sql"
    }
   },
   "outputs": [
    {
     "name": "stdout",
     "output_type": "stream",
     "text": [
      " * sqlite:///worker_project.db\n",
      "Done.\n"
     ]
    },
    {
     "data": {
      "text/html": [
       "<table>\n",
       "    <tr>\n",
       "        <th>projNo</th>\n",
       "        <th>projName</th>\n",
       "        <th>projMgrId</th>\n",
       "        <th>budget</th>\n",
       "        <th>startDate</th>\n",
       "        <th>expectedDurationWeeks</th>\n",
       "    </tr>\n",
       "    <tr>\n",
       "        <td>1001</td>\n",
       "        <td>Jupiter</td>\n",
       "        <td>101</td>\n",
       "        <td>300000</td>\n",
       "        <td>01-Feb-2021</td>\n",
       "        <td>50</td>\n",
       "    </tr>\n",
       "    <tr>\n",
       "        <td>1030</td>\n",
       "        <td>Pluto</td>\n",
       "        <td>110</td>\n",
       "        <td>380000</td>\n",
       "        <td>15-Sep-2023</td>\n",
       "        <td>50</td>\n",
       "    </tr>\n",
       "    <tr>\n",
       "        <td>1019</td>\n",
       "        <td>Mercury</td>\n",
       "        <td>110</td>\n",
       "        <td>350000</td>\n",
       "        <td>15-Feb-2022</td>\n",
       "        <td>40</td>\n",
       "    </tr>\n",
       "    <tr>\n",
       "        <td>1005</td>\n",
       "        <td>Saturn</td>\n",
       "        <td>101</td>\n",
       "        <td>400000</td>\n",
       "        <td>01-Jun-2022</td>\n",
       "        <td>35</td>\n",
       "    </tr>\n",
       "    <tr>\n",
       "        <td>1025</td>\n",
       "        <td>Neptune</td>\n",
       "        <td>110</td>\n",
       "        <td>600000</td>\n",
       "        <td>01-Feb-2021</td>\n",
       "        <td>45</td>\n",
       "    </tr>\n",
       "</table>"
      ],
      "text/plain": [
       "[(1001, 'Jupiter', 101, 300000, '01-Feb-2021', 50),\n",
       " (1030, 'Pluto', 110, 380000, '15-Sep-2023', 50),\n",
       " (1019, 'Mercury', 110, 350000, '15-Feb-2022', 40),\n",
       " (1005, 'Saturn', 101, 400000, '01-Jun-2022', 35),\n",
       " (1025, 'Neptune', 110, 600000, '01-Feb-2021', 45)]"
      ]
     },
     "execution_count": 16,
     "metadata": {},
     "output_type": "execute_result"
    }
   ],
   "source": [
    "%%sql\n",
    "\n",
    "SELECT * FROM Project Order by budget/expectedDurationWeeks;"
   ]
  },
  {
   "cell_type": "markdown",
   "metadata": {},
   "source": [
    "10. Explain your reasoning for your solution to #9 (use a Markdown cell), including who should get the award for Most Efficient Project Manager."
   ]
  },
  {
   "attachments": {},
   "cell_type": "markdown",
   "metadata": {},
   "source": [
    "The budget divided by the expectedDurationWeeks will result in how efficient each employee is. Since it's ordered by budget/expectedDurationWeeks, the most efficient project manager is projNo 1001. "
   ]
  },
  {
   "cell_type": "markdown",
   "metadata": {},
   "source": [
    "11. Bonus!!  A Query that you can't easily answer with just a set of queries: Get a list of project numbers with name and start dates, of all the projects that have the same start date as another. \n",
    "*you don't have to answer this, but think about it!*\n"
   ]
  },
  {
   "attachments": {},
   "cell_type": "markdown",
   "metadata": {},
   "source": [
    "I think this query would require joining the Project table to itself (self join). This would require using LEFT JOIN on itself to get the list of project number/names/start dates with the same start date as another project. "
   ]
  },
  {
   "cell_type": "markdown",
   "metadata": {},
   "source": [
    "## Submission:\n",
    "\n",
    "Commit and push your changes to this document by the deadline, and share a link to the repository in the Moodle assignment.  "
   ]
  },
  {
   "attachments": {},
   "cell_type": "markdown",
   "metadata": {},
   "source": [
    "People who helped:\n",
    "\n",
    "Isaac,\n",
    "Chesky,\n",
    "Molly,\n",
    "Anish,\n",
    "Daize"
   ]
  },
  {
   "cell_type": "code",
   "execution_count": null,
   "metadata": {
    "vscode": {
     "languageId": "sql"
    }
   },
   "outputs": [],
   "source": []
  },
  {
   "cell_type": "code",
   "execution_count": null,
   "metadata": {
    "vscode": {
     "languageId": "sql"
    }
   },
   "outputs": [],
   "source": []
  },
  {
   "cell_type": "code",
   "execution_count": null,
   "metadata": {
    "vscode": {
     "languageId": "sql"
    }
   },
   "outputs": [],
   "source": []
  }
 ],
 "metadata": {
  "kernelspec": {
   "display_name": "Python 3 (ipykernel)",
   "language": "python",
   "name": "python3"
  },
  "language_info": {
   "codemirror_mode": {
    "name": "ipython",
    "version": 3
   },
   "file_extension": ".py",
   "mimetype": "text/x-python",
   "name": "python",
   "nbconvert_exporter": "python",
   "pygments_lexer": "ipython3",
   "version": "3.10.4"
  },
  "vscode": {
   "interpreter": {
    "hash": "3ad933181bd8a04b432d3370b9dc3b0662ad032c4dfaa4e4f1596c548f763858"
   }
  }
 },
 "nbformat": 4,
 "nbformat_minor": 4
}
